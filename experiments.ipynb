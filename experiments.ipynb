{
 "cells": [
  {
   "cell_type": "markdown",
   "metadata": {},
   "source": [
    "# Hyperdimensional Computing on Speech Recognition"
   ]
  },
  {
   "cell_type": "code",
   "execution_count": 1,
   "metadata": {
    "collapsed": false,
    "deletable": true,
    "editable": true
   },
   "outputs": [
    {
     "name": "stderr",
     "output_type": "stream",
     "text": [
      "/Users/AlanYAN/anaconda/lib/python2.7/site-packages/matplotlib/font_manager.py:273: UserWarning: Matplotlib is building the font cache using fc-list. This may take a moment.\n",
      "  warnings.warn('Matplotlib is building the font cache using fc-list. This may take a moment.')\n"
     ]
    }
   ],
   "source": [
    "%matplotlib inline\n",
    "from collections import defaultdict\n",
    "import numpy as np\n",
    "import matplotlib.pyplot as plt\n",
    "import time\n",
    "import HD_classifier\n",
    "from dataloader import *\n",
    "# reload(HD_classifier)"
   ]
  },
  {
   "cell_type": "markdown",
   "metadata": {
    "editable": true
   },
   "source": [
    "## UCI"
   ]
  },
  {
   "cell_type": "code",
   "execution_count": 4,
   "metadata": {
    "collapsed": false,
    "deletable": true,
    "editable": true
   },
   "outputs": [
    {
     "name": "stdout",
     "output_type": "stream",
     "text": [
      "HDC:\n",
      "training: 0.3772, testing: 0.2167\n"
     ]
    }
   ],
   "source": [
    "data_dir = 'data/UCI/'\n",
    "sample_per_class = 1000\n",
    "num_level = 100\n",
    "dimension = 20000\n",
    "\n",
    "from sklearn.linear_model import LogisticRegression as LR\n",
    "from xgboost import XGBClassifier\n",
    "\n",
    "\n",
    "X_train, y_train = load_arabic(data_dir + 'Train_Arabic_Digit.txt', 660, sample_per_class)\n",
    "X_test, y_test = load_arabic(data_dir + 'Test_Arabic_Digit.txt', 220, sample_per_class)\n",
    "# clf = XGBClassifier().fit(X_train, y_train)\n",
    "# print 'XGBoost baseline:'\n",
    "# print 'training: {}, testing: {}'.format(clf.score(X_train, y_train), clf.score(X_test, y_test))\n",
    "\n",
    "intervals = np.linspace(-15, 10, num_level+1)\n",
    "disc_train = np.digitize(X_train, intervals)\n",
    "disc_test = np.digitize(X_test, intervals)\n",
    "hdc = HD_classifier.HDClassifier(dimension).fit(disc_train, y_train, num_level)\n",
    "preds_train = hdc.predict(disc_train)\n",
    "preds_test = hdc.predict(disc_test)\n",
    "print 'HDC:'\n",
    "print 'training: {}, testing: {}'.format((y_train == preds_train).mean(), (y_test == preds_test).mean())"
   ]
  },
  {
   "cell_type": "markdown",
   "metadata": {},
   "source": [
    "## ISOLET"
   ]
  },
  {
   "cell_type": "code",
   "execution_count": 6,
   "metadata": {
    "collapsed": false
   },
   "outputs": [
    {
     "name": "stdout",
     "output_type": "stream",
     "text": [
      "[Warning] small dimension for this data, HVs might not be orthogonal\n",
      "HDC:\n",
      "training: 0.00593138826547, testing: 0.0134701731879\n"
     ]
    }
   ],
   "source": [
    "data_dir = 'data/ISOLET/'\n",
    "sample_per_class = 1000\n",
    "num_level = 50\n",
    "dimension = 4000\n",
    "\n",
    "from xgboost import XGBClassifier\n",
    "\n",
    "X_train, y_train = load_isolet(data_dir + 'isolet1+2+3+4.data')\n",
    "X_test, y_test = load_isolet(data_dir + 'isolet5.data')\n",
    "# clf = XGBClassifier().fit(X_train, y_train)\n",
    "# print 'XGBoost baseline:'\n",
    "# print 'training: {}, testing: {}'.format(clf.score(X_train, y_train), clf.score(X_test, y_test))\n",
    "\n",
    "intervals = np.linspace(0, 1, num_level)\n",
    "disc_train = np.digitize(X_train, intervals)-1\n",
    "disc_test = np.digitize(X_test, intervals)-1\n",
    "hdc = HD_classifier.HDClassifier(dimension, verbose=True).fit(disc_train, y_train, num_level)\n",
    "preds_train = hdc.predict(disc_train)\n",
    "preds_test = hdc.predict(disc_test)\n",
    "print 'HDC:'\n",
    "print 'training: {}, testing: {}'.format((y_train == preds_train).mean(), (y_test == preds_test).mean())"
   ]
  },
  {
   "cell_type": "code",
   "execution_count": 11,
   "metadata": {
    "collapsed": false
   },
   "outputs": [
    {
     "data": {
      "image/png": "[encoded data removed]",
      "text/plain": [
       "<matplotlib.figure.Figure at 0x10653afd0>"
      ]
     },
     "metadata": {},
     "output_type": "display_data"
    }
   ],
   "source": [
    "plt.plot(range(X_train.shape[1]), X_train.max(axis=0))\n",
    "plt.plot(range(X_train.shape[1]), X_train.min(axis=0))\n",
    "plt.show()"
   ]
  },
  {
   "cell_type": "code",
   "execution_count": null,
   "metadata": {
    "collapsed": true
   },
   "outputs": [],
   "source": [
    "# CV\n",
    "print 'sample per class | discrete levels | hyperdimension | training accuracy | testing accuracy'\n",
    "for sample_per_class in [800]:\n",
    "    X_train, y_train = load_uci(data_dir + 'Train_Arabic_Digit.txt', 660, sample_per_class)\n",
    "    X_test, y_test = load_uci(data_dir + 'Test_Arabic_Digit.txt', 220, sample_per_class)\n",
    "    for num_level in [200]:\n",
    "        intervals = np.linspace(-15, 10, num_level + 1)\n",
    "        disc_train = np.digitize(X_train, intervals)\n",
    "        disc_test = np.digitize(X_test, intervals)\n",
    "        for dimension in [10000]:\n",
    "            t = time.time()\n",
    "            hdc = HD_classifier.HDClassifier(dimension).fit(disc_train, y_train, num_level)\n",
    "            preds_train = hdc.predict(disc_train)\n",
    "            preds_test = hdc.predict(disc_test)\n",
    "            t = time.time() - t\n",
    "            print '{:<18} {:<17} {:<16} {:<19} {:<18} {}'.format(sample_per_class,\n",
    "                                                              num_level,\n",
    "                                                              dimension,\n",
    "                                                              (y_train == preds_train).mean(),\n",
    "                                                              (y_test == preds_test).mean())"
   ]
  },
  {
   "cell_type": "code",
   "execution_count": null,
   "metadata": {
    "collapsed": true
   },
   "outputs": [],
   "source": []
  }
 ],
 "metadata": {
  "kernelspec": {
   "display_name": "Python 2",
   "language": "python",
   "name": "python2"
  },
  "language_info": {
   "codemirror_mode": {
    "name": "ipython",
    "version": 2
   },
   "file_extension": ".py",
   "mimetype": "text/x-python",
   "name": "python",
   "nbconvert_exporter": "python",
   "pygments_lexer": "ipython2",
   "version": "2.7.13"
  }
 },
 "nbformat": 4,
 "nbformat_minor": 1
}
